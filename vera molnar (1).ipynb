{
 "cells": [
  {
   "cell_type": "code",
   "execution_count": 1,
   "metadata": {},
   "outputs": [],
   "source": [
    "# This homework learnt from examples on 101 computing.net (https://www.101computing.net/vera-molnar-artwork-revisited-using-python/)\n",
    "# Import turtle and random\n",
    "from ipyturtle import Turtle\n",
    "import turtle\n",
    "import random\n",
    "\n",
    "myBrush = turtle.Turtle()\n",
    "myBrush.hideturtle()\n",
    "myBrush.speed('fast')\n",
    "myBrush.pensize(1.2)\n",
    "myBrush.pencolor('#50d4d0')\n",
    "turtle.bgcolor('#edf3fa')\n",
    "\n",
    "#Canvas Size:\n",
    "width=550\n",
    "height=550\n",
    "#Size of a tile:\n",
    "size = 80\n",
    "\n",
    "blue = (34,93,153)\n",
    "orange = (220,147,93)\n",
    "black = (35,29,41)\n",
    "green = (62,165,148)\n",
    "purple = (182,174,233)\n",
    "colorlist = ['#00aee1','#fe8f53','#232935','#50d4d0','#8a75c4']\n",
    "\n",
    "def drawSquare(x, y, size):\n",
    "  myBrush.penup()\n",
    "  myBrush.goto(x - size / 2 + randomise(), y - size / 2 + randomise())\n",
    "  myBrush.pendown()\n",
    "  myBrush.goto(x + size / 2 + randomise(), y - size / 2 + randomise())\n",
    "  myBrush.goto(x + size / 2 + randomise(), y + size / 2 + randomise())\n",
    "  myBrush.goto(x - size / 2 + randomise(), y + size / 2 + randomise())\n",
    "  myBrush.goto(x - size / 2 + randomise(), y - size / 2 + randomise())\n",
    "\n",
    "def drawTile(x, y, size):\n",
    "  for i in range(0,25):\n",
    "    drawSquare(x, y, size)\n",
    "    size = size - random.randint(0,15)\n",
    "\n",
    "def randomise(): \n",
    "  return (random.randint(0,40)/10-0.5) * 6\n",
    "\n",
    "def draw():\n",
    "  for x in range(0,width + size, size):\n",
    "    for y in range(0,height + size, size):\n",
    "      drawTile(x-275, y-275, size * 1.10)\n",
    "      myBrush.pencolor(random.choice(colorlist))\n",
    "      \n",
    "draw()      \n"
   ]
  },
  {
   "cell_type": "code",
   "execution_count": null,
   "metadata": {},
   "outputs": [],
   "source": []
  },
  {
   "cell_type": "code",
   "execution_count": null,
   "metadata": {},
   "outputs": [],
   "source": []
  }
 ],
 "metadata": {
  "kernelspec": {
   "display_name": "Python 3",
   "language": "python",
   "name": "python3"
  },
  "language_info": {
   "codemirror_mode": {
    "name": "ipython",
    "version": 3
   },
   "file_extension": ".py",
   "mimetype": "text/x-python",
   "name": "python",
   "nbconvert_exporter": "python",
   "pygments_lexer": "ipython3",
   "version": "3.7.1"
  }
 },
 "nbformat": 4,
 "nbformat_minor": 2
}
